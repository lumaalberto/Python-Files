{
 "cells": [
  {
   "cell_type": "code",
   "execution_count": 1,
   "metadata": {},
   "outputs": [],
   "source": [
    "import tensorflow as tf"
   ]
  },
  {
   "cell_type": "code",
   "execution_count": 2,
   "metadata": {},
   "outputs": [],
   "source": [
    "from tensorflow import keras"
   ]
  },
  {
   "cell_type": "code",
   "execution_count": 3,
   "metadata": {},
   "outputs": [],
   "source": [
    "from tensorflow.keras.datasets import mnist"
   ]
  },
  {
   "cell_type": "code",
   "execution_count": 4,
   "metadata": {},
   "outputs": [],
   "source": [
    "from tensorflow.keras.models import Sequential"
   ]
  },
  {
   "cell_type": "code",
   "execution_count": 5,
   "metadata": {},
   "outputs": [],
   "source": [
    "from tensorflow.keras.layers import Dense, Dropout"
   ]
  },
  {
   "cell_type": "code",
   "execution_count": 6,
   "metadata": {},
   "outputs": [],
   "source": [
    "from tensorflow.keras.optimizers import RMSprop"
   ]
  },
  {
   "cell_type": "code",
   "execution_count": 7,
   "metadata": {},
   "outputs": [],
   "source": [
    "batch_size = 128\n",
    "num_classes = 10\n",
    "epochs = 20"
   ]
  },
  {
   "cell_type": "code",
   "execution_count": 8,
   "metadata": {},
   "outputs": [],
   "source": [
    "# the data, split between train and test sets"
   ]
  },
  {
   "cell_type": "code",
   "execution_count": 9,
   "metadata": {},
   "outputs": [
    {
     "name": "stdout",
     "output_type": "stream",
     "text": [
      "Downloading data from https://storage.googleapis.com/tensorflow/tf-keras-datasets/mnist.npz\n",
      "11493376/11490434 [==============================] - 3s 0us/step\n"
     ]
    }
   ],
   "source": [
    "(x_train, y_train), (x_test, y_test) = mnist.load_data()"
   ]
  },
  {
   "cell_type": "code",
   "execution_count": 10,
   "metadata": {},
   "outputs": [],
   "source": [
    "x_train = x_train.reshape(60000, 784)\n",
    "x_test = x_test.reshape(10000, 784)"
   ]
  },
  {
   "cell_type": "code",
   "execution_count": 11,
   "metadata": {},
   "outputs": [],
   "source": [
    "x_train = x_train.astype('float32')\n",
    "x_test = x_test.astype('float32')"
   ]
  },
  {
   "cell_type": "code",
   "execution_count": 12,
   "metadata": {},
   "outputs": [],
   "source": [
    "x_train /= 255\n",
    "x_test /= 255"
   ]
  },
  {
   "cell_type": "code",
   "execution_count": 13,
   "metadata": {},
   "outputs": [
    {
     "name": "stdout",
     "output_type": "stream",
     "text": [
      "60000 train samples\n"
     ]
    }
   ],
   "source": [
    "print(x_train.shape[0], 'train samples')"
   ]
  },
  {
   "cell_type": "code",
   "execution_count": 14,
   "metadata": {},
   "outputs": [
    {
     "name": "stdout",
     "output_type": "stream",
     "text": [
      "10000 test samples\n"
     ]
    }
   ],
   "source": [
    "print(x_test.shape[0], 'test samples')"
   ]
  },
  {
   "cell_type": "code",
   "execution_count": 15,
   "metadata": {},
   "outputs": [],
   "source": [
    "# convert class vectors to binary class matrices"
   ]
  },
  {
   "cell_type": "code",
   "execution_count": 16,
   "metadata": {},
   "outputs": [],
   "source": [
    "y_train = keras.utils.to_categorical(y_train, num_classes)\n",
    "y_test = keras.utils.to_categorical(y_test, num_classes)"
   ]
  },
  {
   "cell_type": "code",
   "execution_count": 17,
   "metadata": {},
   "outputs": [],
   "source": [
    "model = Sequential()\n",
    "model.add(Dense(512, activation='relu', input_shape=(784,)))\n",
    "model.add(Dropout(0.2))\n",
    "model.add(Dense(512, activation='relu'))\n",
    "model.add(Dropout(0.2))\n",
    "model.add(Dense(num_classes, activation='softmax'))"
   ]
  },
  {
   "cell_type": "code",
   "execution_count": 18,
   "metadata": {},
   "outputs": [
    {
     "name": "stdout",
     "output_type": "stream",
     "text": [
      "Model: \"sequential\"\n",
      "_________________________________________________________________\n",
      "Layer (type)                 Output Shape              Param #   \n",
      "=================================================================\n",
      "dense (Dense)                (None, 512)               401920    \n",
      "_________________________________________________________________\n",
      "dropout (Dropout)            (None, 512)               0         \n",
      "_________________________________________________________________\n",
      "dense_1 (Dense)              (None, 512)               262656    \n",
      "_________________________________________________________________\n",
      "dropout_1 (Dropout)          (None, 512)               0         \n",
      "_________________________________________________________________\n",
      "dense_2 (Dense)              (None, 10)                5130      \n",
      "=================================================================\n",
      "Total params: 669,706\n",
      "Trainable params: 669,706\n",
      "Non-trainable params: 0\n",
      "_________________________________________________________________\n"
     ]
    }
   ],
   "source": [
    "model.summary()"
   ]
  },
  {
   "cell_type": "code",
   "execution_count": 19,
   "metadata": {},
   "outputs": [],
   "source": [
    "model.compile(loss='categorical_crossentropy',\n",
    "              optimizer=RMSprop(),\n",
    "              metrics=['accuracy'])"
   ]
  },
  {
   "cell_type": "code",
   "execution_count": 20,
   "metadata": {},
   "outputs": [
    {
     "name": "stdout",
     "output_type": "stream",
     "text": [
      "Train on 60000 samples, validate on 10000 samples\n",
      "Epoch 1/20\n",
      "60000/60000 [==============================] - 40s 674us/sample - loss: 0.2451 - accuracy: 0.9238 - val_loss: 0.1126 - val_accuracy: 0.9651\n",
      "Epoch 2/20\n",
      "60000/60000 [==============================] - 36s 603us/sample - loss: 0.1008 - accuracy: 0.9690 - val_loss: 0.0832 - val_accuracy: 0.9746\n",
      "Epoch 3/20\n",
      "60000/60000 [==============================] - 37s 615us/sample - loss: 0.0746 - accuracy: 0.9771 - val_loss: 0.0731 - val_accuracy: 0.9788\n",
      "Epoch 4/20\n",
      "60000/60000 [==============================] - 36s 604us/sample - loss: 0.0589 - accuracy: 0.9827 - val_loss: 0.0906 - val_accuracy: 0.9742\n",
      "Epoch 5/20\n",
      "60000/60000 [==============================] - 36s 608us/sample - loss: 0.0499 - accuracy: 0.9848 - val_loss: 0.0773 - val_accuracy: 0.9805\n",
      "Epoch 6/20\n",
      "60000/60000 [==============================] - 38s 637us/sample - loss: 0.0434 - accuracy: 0.9869 - val_loss: 0.0766 - val_accuracy: 0.9817\n",
      "Epoch 7/20\n",
      "60000/60000 [==============================] - 38s 637us/sample - loss: 0.0392 - accuracy: 0.9886 - val_loss: 0.0775 - val_accuracy: 0.9817\n",
      "Epoch 8/20\n",
      "60000/60000 [==============================] - 42s 701us/sample - loss: 0.0327 - accuracy: 0.9901 - val_loss: 0.0888 - val_accuracy: 0.9816\n",
      "Epoch 9/20\n",
      "60000/60000 [==============================] - 38s 639us/sample - loss: 0.0317 - accuracy: 0.9906 - val_loss: 0.0950 - val_accuracy: 0.9809\n",
      "Epoch 10/20\n",
      "60000/60000 [==============================] - 38s 632us/sample - loss: 0.0293 - accuracy: 0.9918 - val_loss: 0.0775 - val_accuracy: 0.9836\n",
      "Epoch 11/20\n",
      "60000/60000 [==============================] - 44s 728us/sample - loss: 0.0277 - accuracy: 0.9920 - val_loss: 0.0933 - val_accuracy: 0.9811\n",
      "Epoch 12/20\n",
      "60000/60000 [==============================] - 44s 732us/sample - loss: 0.0248 - accuracy: 0.9929 - val_loss: 0.0781 - val_accuracy: 0.9850\n",
      "Epoch 13/20\n",
      "60000/60000 [==============================] - 38s 629us/sample - loss: 0.0241 - accuracy: 0.9931 - val_loss: 0.0975 - val_accuracy: 0.9840\n",
      "Epoch 14/20\n",
      "60000/60000 [==============================] - 39s 651us/sample - loss: 0.0209 - accuracy: 0.9938 - val_loss: 0.0982 - val_accuracy: 0.9833\n",
      "Epoch 15/20\n",
      "60000/60000 [==============================] - 44s 729us/sample - loss: 0.0195 - accuracy: 0.9945 - val_loss: 0.1045 - val_accuracy: 0.9831\n",
      "Epoch 16/20\n",
      "60000/60000 [==============================] - 39s 648us/sample - loss: 0.0204 - accuracy: 0.9944 - val_loss: 0.1288 - val_accuracy: 0.9823\n",
      "Epoch 17/20\n",
      "60000/60000 [==============================] - 39s 650us/sample - loss: 0.0212 - accuracy: 0.9944 - val_loss: 0.1039 - val_accuracy: 0.9850\n",
      "Epoch 18/20\n",
      "60000/60000 [==============================] - 41s 685us/sample - loss: 0.0163 - accuracy: 0.9956 - val_loss: 0.1240 - val_accuracy: 0.9823\n",
      "Epoch 19/20\n",
      "60000/60000 [==============================] - 39s 647us/sample - loss: 0.0159 - accuracy: 0.9956 - val_loss: 0.1132 - val_accuracy: 0.9850\n",
      "Epoch 20/20\n",
      "60000/60000 [==============================] - 38s 637us/sample - loss: 0.0157 - accuracy: 0.9956 - val_loss: 0.1310 - val_accuracy: 0.9819\n"
     ]
    }
   ],
   "source": [
    "history = model.fit(x_train, y_train,\n",
    "                    batch_size=batch_size,\n",
    "                    epochs=epochs,\n",
    "                    verbose=1,\n",
    "                    validation_data=(x_test, y_test))"
   ]
  },
  {
   "cell_type": "code",
   "execution_count": 21,
   "metadata": {},
   "outputs": [],
   "source": [
    "score = model.evaluate(x_test, y_test, verbose=0)"
   ]
  },
  {
   "cell_type": "code",
   "execution_count": 22,
   "metadata": {},
   "outputs": [
    {
     "name": "stdout",
     "output_type": "stream",
     "text": [
      "Test loss: 0.13101660386423408\n"
     ]
    }
   ],
   "source": [
    "print('Test loss:', score[0])"
   ]
  },
  {
   "cell_type": "code",
   "execution_count": 23,
   "metadata": {},
   "outputs": [
    {
     "name": "stdout",
     "output_type": "stream",
     "text": [
      "Test accuracy: 0.9819\n"
     ]
    }
   ],
   "source": [
    "print('Test accuracy:', score[1])"
   ]
  },
  {
   "cell_type": "code",
   "execution_count": null,
   "metadata": {},
   "outputs": [],
   "source": []
  }
 ],
 "metadata": {
  "kernelspec": {
   "display_name": "Python 3",
   "language": "python",
   "name": "python3"
  },
  "language_info": {
   "codemirror_mode": {
    "name": "ipython",
    "version": 3
   },
   "file_extension": ".py",
   "mimetype": "text/x-python",
   "name": "python",
   "nbconvert_exporter": "python",
   "pygments_lexer": "ipython3",
   "version": "3.7.7"
  }
 },
 "nbformat": 4,
 "nbformat_minor": 4
}
